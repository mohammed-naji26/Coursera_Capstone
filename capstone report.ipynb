{
 "cells": [
  {
   "cell_type": "markdown",
   "metadata": {},
   "source": [
    "# <center>Capstone Project - The Battle of Neighborhoods (Week 2)"
   ]
  },
  {
   "cell_type": "markdown",
   "metadata": {},
   "source": [
    "## Introduction "
   ]
  },
  {
   "cell_type": "markdown",
   "metadata": {},
   "source": [
    "In this project we will explain crimes commites in Boston and their places, so we can specify safe or dangerous neighbors. Anyone wants to choose a place to live in Boston may be interested in these plans and analysis"
   ]
  },
  {
   "cell_type": "markdown",
   "metadata": {},
   "source": [
    "## Data"
   ]
  },
  {
   "cell_type": "markdown",
   "metadata": {},
   "source": [
    "Context-\n",
    "This is a dataset containing records from the new crime incident report system, which includes a reduced set of fields focused on capturing the type of incident as well as when and where it occurred.\n",
    "Content-\n",
    "This dataset has 2,60,760 rows and 17 columns.\n",
    "\n",
    "    INCIDENT_NUMBER:\n",
    "    OFFENSE_CODE:\n",
    "    OFFENSECODEGROUP:\n",
    "    OFFENSE_DESCRIPTION:\n",
    "    DISTRICT:\n",
    "    REPORTING_AREA:\n",
    "    SHOOTING:\n",
    "    OCCURREDONDATE:\n",
    "    YEAR:\n",
    "    MONTH:\n",
    "    DAYOFWEEK:\n",
    "    HOUR:\n",
    "    UCR_PART:\n",
    "    STREET:\n",
    "    LATITUDE:\n",
    "    LONGITUDE:\n",
    "    LOCATION:\n",
    "    Acknowledgements-\n",
    "    I would like to thank the Boston Police Department for making this dataset available to everyone.\n",
    "    Inspiration\n",
    "\n",
    "    How has crime changed over the years?\n",
    "    Is it possible to predict where or when a crime will be committed?\n",
    "    Which areas of the city have evolved over this time span?\n",
    "    In which area most crimes are committed?"
   ]
  },
  {
   "cell_type": "markdown",
   "metadata": {},
   "source": [
    "## Methodology"
   ]
  },
  {
   "cell_type": "markdown",
   "metadata": {},
   "source": [
    "I used the dataset Boston Crimes which is available on Kaggle, as well I used Foursquare API and URL with Requests libaries to redrive cooredinates, as well Seaborn library and folium to draw the maps of crimes locations and used heatmaps to recognize places according to crime rates."
   ]
  },
  {
   "cell_type": "markdown",
   "metadata": {},
   "source": [
    "## Results"
   ]
  },
  {
   "cell_type": "markdown",
   "metadata": {},
   "source": [
    "Regions in Boston have the highest crime rates:\n",
    "- South End\n",
    "- Dorchester\n",
    "- Roxbury"
   ]
  },
  {
   "cell_type": "markdown",
   "metadata": {},
   "source": [
    "## Discussion"
   ]
  },
  {
   "cell_type": "markdown",
   "metadata": {},
   "source": [
    "By using the tools above in Mehodology section, we can conclude a lot of important information. We can make more analysis to find out we some kinds of crimes occures more in some places more than the other, so we can take some actions to prevend or decrease them."
   ]
  },
  {
   "cell_type": "markdown",
   "metadata": {},
   "source": [
    "## Conclusion"
   ]
  },
  {
   "cell_type": "markdown",
   "metadata": {},
   "source": [
    "According to the crime rates in each place and it is types we can make more decissions about the places wich may need more medical assistance as the crime contaiins more violence or seriouse injuries."
   ]
  },
  {
   "cell_type": "code",
   "execution_count": null,
   "metadata": {},
   "outputs": [],
   "source": []
  }
 ],
 "metadata": {
  "kernelspec": {
   "display_name": "Python 3",
   "language": "python",
   "name": "python3"
  },
  "language_info": {
   "codemirror_mode": {
    "name": "ipython",
    "version": 3
   },
   "file_extension": ".py",
   "mimetype": "text/x-python",
   "name": "python",
   "nbconvert_exporter": "python",
   "pygments_lexer": "ipython3",
   "version": "3.8.3"
  }
 },
 "nbformat": 4,
 "nbformat_minor": 4
}
